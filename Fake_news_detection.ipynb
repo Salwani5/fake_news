{
  "cells": [
    {
      "cell_type": "markdown",
      "metadata": {
        "id": "bL0qRXI9011u"
      },
      "source": [
        "## **FAKE NEWS DETECTION MODEL**\n",
        "A fake news detection model is a machine learning model that is trained to identify and classify news\n",
        "articles or other forms of content as either real or fake. Fake news refers to deliberately misleading, false or biased information presented as news or journalism, with the aim of manipulating public opinion or\n",
        "spreading propaganda."
      ]
    },
    {
      "cell_type": "markdown",
      "metadata": {
        "id": "mP_GJxTZ6e1E"
      },
      "source": [
        "## 0 for real news\n",
        "## 1 for fake news"
      ]
    },
    {
      "cell_type": "markdown",
      "metadata": {
        "id": "-mCdOuy01MJ1"
      },
      "source": [
        "This code imports the following libraries:\n",
        "1. **numpy** and **pandas** for data manipulation\n",
        "2. **re** for regular expression operations use for searching text in a document\n",
        "3. **matplotlib** for data visualization\n",
        "4. **WordCloud** for creating word clouds\n",
        "5. **stopwords** and **PorterStemmer** from nltk for text preprocessing\n",
        "6. **TfidfVectorizer**, **CountVectorizer** and **TfidfTransformer** from **sklearn** for feature extraction\n",
        "7. **train_test_split** from **sklearn** for splitting data into training and testing sets\n",
        "8. **LogisticRegression** and **DecisionTreeClassifier** from **sklearn** for model training\n",
        "9. **accuracy_score** from **sklearn.metrics** for model evaluation\n",
        "10. **GridSearchCV**, **StratifiedKFold**, **cross_val_score** and **learning_curve** from **sklearn.model_selection** for hyperparameter tuning and cross-validation."
      ]
    },
    {
      "cell_type": "code",
      "execution_count": null,
      "metadata": {
        "id": "-iKbhGFMfk1z"
      },
      "outputs": [],
      "source": [
        "import numpy as np\n",
        "import pandas as pd\n",
        "import re\n",
        "import matplotlib.pyplot as plt \n",
        "from nltk.corpus import stopwords\n",
        "from nltk.stem.porter import PorterStemmer\n",
        "from sklearn.feature_extraction.text import TfidfVectorizer\n",
        "from sklearn.model_selection import train_test_split\n",
        "from sklearn.linear_model import LogisticRegression\n",
        "from sklearn.metrics import accuracy_score\n",
        "from sklearn.feature_extraction.text import CountVectorizer, TfidfTransformer\n",
        "from sklearn.tree import DecisionTreeClassifier\n",
        "from sklearn.model_selection import GridSearchCV,train_test_split,StratifiedKFold,cross_val_score,learning_curve"
      ]
    },
    {
      "cell_type": "markdown",
      "metadata": {
        "id": "Qwu2HuF02NY5"
      },
      "source": [
        "The **stopwords** corpus contains a list of commonly occurring words in a language (such as \"the\", \"and\", \"of\", etc.) that are usually removed from text data during text preprocessing because they do not carry much useful information for text analysis.\n",
        "\n",
        "This code imports the **stopwords** corpus from nltk and creates a set of English stop words, which you can use to remove stop words from your text data."
      ]
    },
    {
      "cell_type": "code",
      "execution_count": null,
      "metadata": {
        "colab": {
          "base_uri": "https://localhost:8080/"
        },
        "id": "LQAcfczQf8HC",
        "outputId": "ec5b95be-9192-40f6-9925-eb1e9446a650"
      },
      "outputs": [
        {
          "name": "stderr",
          "output_type": "stream",
          "text": [
            "[nltk_data] Downloading package stopwords to /root/nltk_data...\n",
            "[nltk_data]   Package stopwords is already up-to-date!\n"
          ]
        },
        {
          "data": {
            "text/plain": [
              "True"
            ]
          },
          "execution_count": 64,
          "metadata": {},
          "output_type": "execute_result"
        }
      ],
      "source": [
        "import nltk\n",
        "nltk.download('stopwords')"
      ]
    },
    {
      "cell_type": "code",
      "execution_count": null,
      "metadata": {
        "colab": {
          "base_uri": "https://localhost:8080/"
        },
        "id": "ECx5be0QgCnV",
        "outputId": "318af784-387a-42d4-8e31-b6431d27bc33"
      },
      "outputs": [
        {
          "name": "stdout",
          "output_type": "stream",
          "text": [
            "['i', 'me', 'my', 'myself', 'we', 'our', 'ours', 'ourselves', 'you', \"you're\", \"you've\", \"you'll\", \"you'd\", 'your', 'yours', 'yourself', 'yourselves', 'he', 'him', 'his', 'himself', 'she', \"she's\", 'her', 'hers', 'herself', 'it', \"it's\", 'its', 'itself', 'they', 'them', 'their', 'theirs', 'themselves', 'what', 'which', 'who', 'whom', 'this', 'that', \"that'll\", 'these', 'those', 'am', 'is', 'are', 'was', 'were', 'be', 'been', 'being', 'have', 'has', 'had', 'having', 'do', 'does', 'did', 'doing', 'a', 'an', 'the', 'and', 'but', 'if', 'or', 'because', 'as', 'until', 'while', 'of', 'at', 'by', 'for', 'with', 'about', 'against', 'between', 'into', 'through', 'during', 'before', 'after', 'above', 'below', 'to', 'from', 'up', 'down', 'in', 'out', 'on', 'off', 'over', 'under', 'again', 'further', 'then', 'once', 'here', 'there', 'when', 'where', 'why', 'how', 'all', 'any', 'both', 'each', 'few', 'more', 'most', 'other', 'some', 'such', 'no', 'nor', 'not', 'only', 'own', 'same', 'so', 'than', 'too', 'very', 's', 't', 'can', 'will', 'just', 'don', \"don't\", 'should', \"should've\", 'now', 'd', 'll', 'm', 'o', 're', 've', 'y', 'ain', 'aren', \"aren't\", 'couldn', \"couldn't\", 'didn', \"didn't\", 'doesn', \"doesn't\", 'hadn', \"hadn't\", 'hasn', \"hasn't\", 'haven', \"haven't\", 'isn', \"isn't\", 'ma', 'mightn', \"mightn't\", 'mustn', \"mustn't\", 'needn', \"needn't\", 'shan', \"shan't\", 'shouldn', \"shouldn't\", 'wasn', \"wasn't\", 'weren', \"weren't\", 'won', \"won't\", 'wouldn', \"wouldn't\"]\n"
          ]
        }
      ],
      "source": [
        "# printing the stopwords in English\n",
        "print(stopwords.words('english'))"
      ]
    },
    {
      "cell_type": "markdown",
      "metadata": {
        "id": "avMGzAi5-T5y"
      },
      "source": [
        "The **pd.read_csv()** function reads the CSV file at the given path and returns a DataFrame that contains the data. The **drive.mount()** function mounts your Google Drive on Google Colab so that you can access your files and directories on your Google Drive.\n",
        "\n",
        "After running this code, you can access the **news_dataset** DataFrame to explore and preprocess the data."
      ]
    },
    {
      "cell_type": "markdown",
      "metadata": {
        "id": "GbzXpd6KmZda"
      },
      "source": [
        "https://www.kaggle.com/datasets/jruvika/fake-news-detection"
      ]
    },
    {
      "cell_type": "code",
      "execution_count": null,
      "metadata": {
        "id": "drGS1pNGhwBs"
      },
      "outputs": [],
      "source": [
        "# loading the dataset to a pandas DataFrame\n",
        "news_dataset = pd.read_csv('/content/train.csv')"
      ]
    },
    {
      "cell_type": "code",
      "execution_count": null,
      "metadata": {
        "colab": {
          "base_uri": "https://localhost:8080/"
        },
        "id": "47waeXTuruNC",
        "outputId": "5b7ba931-edb4-4c3e-b178-e4511010f2b6"
      },
      "outputs": [
        {
          "data": {
            "text/plain": [
              "(4009, 4)"
            ]
          },
          "execution_count": 67,
          "metadata": {},
          "output_type": "execute_result"
        }
      ],
      "source": [
        "news_dataset.shape"
      ]
    },
    {
      "cell_type": "code",
      "execution_count": null,
      "metadata": {
        "colab": {
          "base_uri": "https://localhost:8080/"
        },
        "id": "6raYHog6DWvW",
        "outputId": "c5e7a843-f8d6-4c5e-9e62-a97f249466a1"
      },
      "outputs": [
        {
          "name": "stdout",
          "output_type": "stream",
          "text": [
            "Drive already mounted at /content/drive; to attempt to forcibly remount, call drive.mount(\"/content/drive\", force_remount=True).\n"
          ]
        }
      ],
      "source": [
        "from google.colab import drive\n",
        "drive.mount('/content/drive')"
      ]
    },
    {
      "cell_type": "markdown",
      "metadata": {
        "id": "1tpPtI5S-dyQ"
      },
      "source": [
        "The **head()** method of a DataFrame returns the first n rows (5 by default) of the DataFrame. By default, it returns the first 5 rows of the DataFrame, but you can pass an integer value to the method to return the first n rows.\n",
        "\n",
        "This code will print the first 5 rows of the **news_dataset** DataFrame to the console so that you can get a sense of the structure of the data."
      ]
    },
    {
      "cell_type": "code",
      "execution_count": null,
      "metadata": {
        "colab": {
          "base_uri": "https://localhost:8080/",
          "height": 337
        },
        "id": "HRziO0y5gKIn",
        "outputId": "c0d62ea0-dc23-4106-fa38-46d74d89918c"
      },
      "outputs": [
        {
          "data": {
            "text/html": [
              "\n",
              "  <div id=\"df-b38a5f1b-09bc-4548-a5b5-b7281f576268\">\n",
              "    <div class=\"colab-df-container\">\n",
              "      <div>\n",
              "<style scoped>\n",
              "    .dataframe tbody tr th:only-of-type {\n",
              "        vertical-align: middle;\n",
              "    }\n",
              "\n",
              "    .dataframe tbody tr th {\n",
              "        vertical-align: top;\n",
              "    }\n",
              "\n",
              "    .dataframe thead th {\n",
              "        text-align: right;\n",
              "    }\n",
              "</style>\n",
              "<table border=\"1\" class=\"dataframe\">\n",
              "  <thead>\n",
              "    <tr style=\"text-align: right;\">\n",
              "      <th></th>\n",
              "      <th>URLs</th>\n",
              "      <th>Headline</th>\n",
              "      <th>Body</th>\n",
              "      <th>Label</th>\n",
              "    </tr>\n",
              "  </thead>\n",
              "  <tbody>\n",
              "    <tr>\n",
              "      <th>0</th>\n",
              "      <td>http://www.bbc.com/news/world-us-canada-414191...</td>\n",
              "      <td>Four ways Bob Corker skewered Donald Trump</td>\n",
              "      <td>Image copyright Getty Images\\nOn Sunday mornin...</td>\n",
              "      <td>1</td>\n",
              "    </tr>\n",
              "    <tr>\n",
              "      <th>1</th>\n",
              "      <td>https://www.reuters.com/article/us-filmfestiva...</td>\n",
              "      <td>Linklater's war veteran comedy speaks to moder...</td>\n",
              "      <td>LONDON (Reuters) - “Last Flag Flying”, a comed...</td>\n",
              "      <td>1</td>\n",
              "    </tr>\n",
              "    <tr>\n",
              "      <th>2</th>\n",
              "      <td>https://www.nytimes.com/2017/10/09/us/politics...</td>\n",
              "      <td>Trump’s Fight With Corker Jeopardizes His Legi...</td>\n",
              "      <td>The feud broke into public view last week when...</td>\n",
              "      <td>1</td>\n",
              "    </tr>\n",
              "    <tr>\n",
              "      <th>3</th>\n",
              "      <td>https://www.reuters.com/article/us-mexico-oil-...</td>\n",
              "      <td>Egypt's Cheiron wins tie-up with Pemex for Mex...</td>\n",
              "      <td>MEXICO CITY (Reuters) - Egypt’s Cheiron Holdin...</td>\n",
              "      <td>1</td>\n",
              "    </tr>\n",
              "    <tr>\n",
              "      <th>4</th>\n",
              "      <td>http://www.cnn.com/videos/cnnmoney/2017/10/08/...</td>\n",
              "      <td>Jason Aldean opens 'SNL' with Vegas tribute</td>\n",
              "      <td>Country singer Jason Aldean, who was performin...</td>\n",
              "      <td>1</td>\n",
              "    </tr>\n",
              "  </tbody>\n",
              "</table>\n",
              "</div>\n",
              "      <button class=\"colab-df-convert\" onclick=\"convertToInteractive('df-b38a5f1b-09bc-4548-a5b5-b7281f576268')\"\n",
              "              title=\"Convert this dataframe to an interactive table.\"\n",
              "              style=\"display:none;\">\n",
              "        \n",
              "  <svg xmlns=\"http://www.w3.org/2000/svg\" height=\"24px\"viewBox=\"0 0 24 24\"\n",
              "       width=\"24px\">\n",
              "    <path d=\"M0 0h24v24H0V0z\" fill=\"none\"/>\n",
              "    <path d=\"M18.56 5.44l.94 2.06.94-2.06 2.06-.94-2.06-.94-.94-2.06-.94 2.06-2.06.94zm-11 1L8.5 8.5l.94-2.06 2.06-.94-2.06-.94L8.5 2.5l-.94 2.06-2.06.94zm10 10l.94 2.06.94-2.06 2.06-.94-2.06-.94-.94-2.06-.94 2.06-2.06.94z\"/><path d=\"M17.41 7.96l-1.37-1.37c-.4-.4-.92-.59-1.43-.59-.52 0-1.04.2-1.43.59L10.3 9.45l-7.72 7.72c-.78.78-.78 2.05 0 2.83L4 21.41c.39.39.9.59 1.41.59.51 0 1.02-.2 1.41-.59l7.78-7.78 2.81-2.81c.8-.78.8-2.07 0-2.86zM5.41 20L4 18.59l7.72-7.72 1.47 1.35L5.41 20z\"/>\n",
              "  </svg>\n",
              "      </button>\n",
              "      \n",
              "  <style>\n",
              "    .colab-df-container {\n",
              "      display:flex;\n",
              "      flex-wrap:wrap;\n",
              "      gap: 12px;\n",
              "    }\n",
              "\n",
              "    .colab-df-convert {\n",
              "      background-color: #E8F0FE;\n",
              "      border: none;\n",
              "      border-radius: 50%;\n",
              "      cursor: pointer;\n",
              "      display: none;\n",
              "      fill: #1967D2;\n",
              "      height: 32px;\n",
              "      padding: 0 0 0 0;\n",
              "      width: 32px;\n",
              "    }\n",
              "\n",
              "    .colab-df-convert:hover {\n",
              "      background-color: #E2EBFA;\n",
              "      box-shadow: 0px 1px 2px rgba(60, 64, 67, 0.3), 0px 1px 3px 1px rgba(60, 64, 67, 0.15);\n",
              "      fill: #174EA6;\n",
              "    }\n",
              "\n",
              "    [theme=dark] .colab-df-convert {\n",
              "      background-color: #3B4455;\n",
              "      fill: #D2E3FC;\n",
              "    }\n",
              "\n",
              "    [theme=dark] .colab-df-convert:hover {\n",
              "      background-color: #434B5C;\n",
              "      box-shadow: 0px 1px 3px 1px rgba(0, 0, 0, 0.15);\n",
              "      filter: drop-shadow(0px 1px 2px rgba(0, 0, 0, 0.3));\n",
              "      fill: #FFFFFF;\n",
              "    }\n",
              "  </style>\n",
              "\n",
              "      <script>\n",
              "        const buttonEl =\n",
              "          document.querySelector('#df-b38a5f1b-09bc-4548-a5b5-b7281f576268 button.colab-df-convert');\n",
              "        buttonEl.style.display =\n",
              "          google.colab.kernel.accessAllowed ? 'block' : 'none';\n",
              "\n",
              "        async function convertToInteractive(key) {\n",
              "          const element = document.querySelector('#df-b38a5f1b-09bc-4548-a5b5-b7281f576268');\n",
              "          const dataTable =\n",
              "            await google.colab.kernel.invokeFunction('convertToInteractive',\n",
              "                                                     [key], {});\n",
              "          if (!dataTable) return;\n",
              "\n",
              "          const docLinkHtml = 'Like what you see? Visit the ' +\n",
              "            '<a target=\"_blank\" href=https://colab.research.google.com/notebooks/data_table.ipynb>data table notebook</a>'\n",
              "            + ' to learn more about interactive tables.';\n",
              "          element.innerHTML = '';\n",
              "          dataTable['output_type'] = 'display_data';\n",
              "          await google.colab.output.renderOutput(dataTable, element);\n",
              "          const docLink = document.createElement('div');\n",
              "          docLink.innerHTML = docLinkHtml;\n",
              "          element.appendChild(docLink);\n",
              "        }\n",
              "      </script>\n",
              "    </div>\n",
              "  </div>\n",
              "  "
            ],
            "text/plain": [
              "                                                URLs  \\\n",
              "0  http://www.bbc.com/news/world-us-canada-414191...   \n",
              "1  https://www.reuters.com/article/us-filmfestiva...   \n",
              "2  https://www.nytimes.com/2017/10/09/us/politics...   \n",
              "3  https://www.reuters.com/article/us-mexico-oil-...   \n",
              "4  http://www.cnn.com/videos/cnnmoney/2017/10/08/...   \n",
              "\n",
              "                                            Headline  \\\n",
              "0         Four ways Bob Corker skewered Donald Trump   \n",
              "1  Linklater's war veteran comedy speaks to moder...   \n",
              "2  Trump’s Fight With Corker Jeopardizes His Legi...   \n",
              "3  Egypt's Cheiron wins tie-up with Pemex for Mex...   \n",
              "4        Jason Aldean opens 'SNL' with Vegas tribute   \n",
              "\n",
              "                                                Body  Label  \n",
              "0  Image copyright Getty Images\\nOn Sunday mornin...      1  \n",
              "1  LONDON (Reuters) - “Last Flag Flying”, a comed...      1  \n",
              "2  The feud broke into public view last week when...      1  \n",
              "3  MEXICO CITY (Reuters) - Egypt’s Cheiron Holdin...      1  \n",
              "4  Country singer Jason Aldean, who was performin...      1  "
            ]
          },
          "execution_count": 69,
          "metadata": {},
          "output_type": "execute_result"
        }
      ],
      "source": [
        "# print the first 5 rows of the dataframe\n",
        "news_dataset.head()"
      ]
    },
    {
      "cell_type": "markdown",
      "metadata": {
        "id": "TcrH9wXb-rqk"
      },
      "source": [
        "The **hist()** method of a pandas Series or DataFrame creates a **histogram** of the values in the Series or DataFrame. In this case, we are creating a histogram of the **Label** column in the **news_dataset** DataFrame.\n",
        "\n",
        "This code will plot a histogram of the **Label** column, which contains the labels for the news articles. The histogram will show the distribution of the labels in the dataset, which can help you understand the balance of the classes and identify any class imbalance issues."
      ]
    },
    {
      "cell_type": "code",
      "execution_count": null,
      "metadata": {
        "colab": {
          "base_uri": "https://localhost:8080/",
          "height": 282
        },
        "id": "r7DnVEOb6CoW",
        "outputId": "8c5767f9-1b45-4b5a-fddf-07d6dd608808"
      },
      "outputs": [
        {
          "data": {
            "text/plain": [
              "<Axes: >"
            ]
          },
          "execution_count": 70,
          "metadata": {},
          "output_type": "execute_result"
        },
        {
          "data": {
            "image/png": "[encoded data removed]",
            "text/plain": [
              "<Figure size 432x288 with 1 Axes>"
            ]
          },
          "metadata": {},
          "output_type": "display_data"
        }
      ],
      "source": [
        "news_dataset[\"Label\"].hist()"
      ]
    },
    {
      "cell_type": "markdown",
      "metadata": {
        "id": "14o8vhrP-2yt"
      },
      "source": [
        "The code **news_dataset.isnull().sum()** is used to count the number of missing values in a dataset named **news_dataset**.\n",
        "\n",
        "The **isnull()** method is used to create a Boolean mask of the same shape as the dataset, where **True** values represent missing values, and **False** values represent non-missing values.\n",
        "\n",
        "The **sum()** method is then used to sum up the number of **True** values in each column of the Boolean mask, which corresponds to the number of missing values in each column of the dataset.\n",
        "\n",
        "So the output of this code will be a series that lists the number of missing values for each column in **news_dataset**."
      ]
    },
    {
      "cell_type": "code",
      "execution_count": null,
      "metadata": {
        "colab": {
          "base_uri": "https://localhost:8080/"
        },
        "id": "Zk1w89Wph6VD",
        "outputId": "c9d6a73f-78a7-42a0-aa40-1db85000baeb"
      },
      "outputs": [
        {
          "data": {
            "text/plain": [
              "URLs         0\n",
              "Headline     0\n",
              "Body        21\n",
              "Label        0\n",
              "dtype: int64"
            ]
          },
          "execution_count": 71,
          "metadata": {},
          "output_type": "execute_result"
        }
      ],
      "source": [
        "# counting the number of missing values in the dataset\n",
        "news_dataset.isnull().sum()"
      ]
    },
    {
      "cell_type": "markdown",
      "metadata": {
        "id": "kkPe6PpS_FDk"
      },
      "source": [
        "The code **news_dataset = news_dataset.fillna('')** is used to replace all missing values in the dataset named **news_dataset** with empty strings **('')**.\n",
        "\n",
        "The **fillna()** method is used to fill the missing values in a dataset with a specified value. In this case, we are filling the missing values with an empty string, which is represented by **''**.\n",
        "\n",
        "After executing this code, all the missing values in **news_dataset** will be replaced with empty strings. This is often done to ensure that the dataset has no missing values before performing further analysis or modeling."
      ]
    },
    {
      "cell_type": "code",
      "execution_count": null,
      "metadata": {
        "id": "mytP-zcZh9ej"
      },
      "outputs": [],
      "source": [
        "# replacing the null values with empty string\n",
        "news_dataset = news_dataset.fillna('')"
      ]
    },
    {
      "cell_type": "markdown",
      "metadata": {
        "id": "nee232gT_jQH"
      },
      "source": [
        "This code seems to merge the body of a news article and its **headline** into a new column called \"**content**\" in a pandas DataFrame called \"**news_dataset**\".\n",
        "\n",
        "Assuming that the columns \"**Body**\" and \"**Headline**\" contain the text of the news article's body and headline respectively, this code concatenates these two strings with a space between them using the **\"+\"** operator and assigns the result to a new column \"**content**\" in the same DataFrame.\n",
        "\n",
        "This could be useful for analyzing the text of news articles as a single unit, rather than separately examining the headline and body. However, it's important to note that this merging of text may not always be appropriate, especially if the headline and body convey different meanings or the headline is not a concise summary of the article's main **content**."
      ]
    },
    {
      "cell_type": "code",
      "execution_count": null,
      "metadata": {
        "id": "UJ_rWDIliCW9"
      },
      "outputs": [],
      "source": [
        "# merging the author name and news title\n",
        "news_dataset['content'] = news_dataset['Body']+' '+news_dataset['Headline']"
      ]
    },
    {
      "cell_type": "markdown",
      "metadata": {
        "id": "PzYV4ecxAMY5"
      },
      "source": [
        "The \"**content**\" column contain the merged text of each news article's body and headline, separated by a space."
      ]
    },
    {
      "cell_type": "code",
      "execution_count": null,
      "metadata": {
        "colab": {
          "base_uri": "https://localhost:8080/"
        },
        "id": "aHUSTxLBiECw",
        "outputId": "652338e3-8236-4811-c1a5-3ea3c448ba40"
      },
      "outputs": [
        {
          "name": "stdout",
          "output_type": "stream",
          "text": [
            "0       Image copyright Getty Images\\nOn Sunday mornin...\n",
            "1       LONDON (Reuters) - “Last Flag Flying”, a comed...\n",
            "2       The feud broke into public view last week when...\n",
            "3       MEXICO CITY (Reuters) - Egypt’s Cheiron Holdin...\n",
            "4       Country singer Jason Aldean, who was performin...\n",
            "                              ...                        \n",
            "4004    Trends to Watch\\n% of readers think this story...\n",
            "4005    Trump Jr. Is Soon To Give A 30-Minute Speech F...\n",
            "4006          Ron Paul on Trump, Anarchism & the AltRight\n",
            "4007    SHANGHAI (Reuters) - China said it plans to ac...\n",
            "4008    Vice President Mike Pence Leaves NFL Game Beca...\n",
            "Name: content, Length: 4009, dtype: object\n"
          ]
        }
      ],
      "source": [
        "print(news_dataset['content'])"
      ]
    },
    {
      "cell_type": "markdown",
      "metadata": {
        "id": "G-XpLIdLBBDZ"
      },
      "source": [
        "This code separates the data and label in a pandas DataFrame called \"**news_dataset**\". Assuming that the DataFrame has a column called \"**Label**\" that contains the labels for each news article (e.g., 0 or 1 to indicate negative or positive sentiment), this code creates two new variables:\n",
        "\n",
        "**X**: This variable contains all the columns in the \"**news_dataset**\" DataFrame except for the \"**Label**\" column. This variable represents the data (i.e., the features or independent variables) that will be used to predict the labels.\n",
        "\n",
        "**Y**: This variable contains only the \"**Label**\" column from the \"**news_dataset**\" DataFrame. This variable represents the label (i.e., the dependent variable) that will be predicted based on the data in X.\n",
        "\n",
        "By separating the data and label in this way, we can train a machine learning model to predict the labels based on the data, and then use the model to make predictions on new, unseen data.\n",
        "\n"
      ]
    },
    {
      "cell_type": "code",
      "execution_count": null,
      "metadata": {
        "id": "_4k9vEB1iKBs"
      },
      "outputs": [],
      "source": [
        "# separating the data & label\n",
        "X = news_dataset.drop(columns='Label', axis=1)\n",
        "Y = news_dataset['Label']"
      ]
    },
    {
      "cell_type": "markdown",
      "metadata": {
        "id": "rYMghdzUBfLB"
      },
      "source": [
        "**print(X)** will print the values of **X**, which contains all the columns in the \"**news_dataset**\" DataFrame except for the \"**Label**\" column. This variable represents the data (i.e., the features or independent variables) that will be used to predict the labels.\n",
        "\n",
        "**print(Y)** will print the values of **Y**, which contains only the \"**Label**\" column from the \"**news_dataset**\" DataFrame. This variable represents the label (i.e., the dependent variable) that will be predicted based on the data in X.\n",
        "\n",
        "The output of these print statements will depend on the contents of the \"**news_dataset**\" DataFrame. **X** will contain all the columns except for \"**Label**\", while **Y** will contain only the \"**Label**\" column. If the DataFrame has many columns or rows, only a subset of the values will be printed to the console."
      ]
    },
    {
      "cell_type": "code",
      "execution_count": null,
      "metadata": {
        "colab": {
          "base_uri": "https://localhost:8080/"
        },
        "id": "8MPSX5jBiNIr",
        "outputId": "6879cb15-a825-4403-b45c-b28e8f4432e4"
      },
      "outputs": [
        {
          "name": "stdout",
          "output_type": "stream",
          "text": [
            "                                                   URLs  \\\n",
            "0     http://www.bbc.com/news/world-us-canada-414191...   \n",
            "1     https://www.reuters.com/article/us-filmfestiva...   \n",
            "2     https://www.nytimes.com/2017/10/09/us/politics...   \n",
            "3     https://www.reuters.com/article/us-mexico-oil-...   \n",
            "4     http://www.cnn.com/videos/cnnmoney/2017/10/08/...   \n",
            "...                                                 ...   \n",
            "4004  http://beforeitsnews.com/sports/2017/09/trends...   \n",
            "4005  http://beforeitsnews.com/u-s-politics/2017/10/...   \n",
            "4006  https://www.activistpost.com/2017/09/ron-paul-...   \n",
            "4007  https://www.reuters.com/article/us-china-pharm...   \n",
            "4008  http://beforeitsnews.com/u-s-politics/2017/10/...   \n",
            "\n",
            "                                               Headline  \\\n",
            "0            Four ways Bob Corker skewered Donald Trump   \n",
            "1     Linklater's war veteran comedy speaks to moder...   \n",
            "2     Trump’s Fight With Corker Jeopardizes His Legi...   \n",
            "3     Egypt's Cheiron wins tie-up with Pemex for Mex...   \n",
            "4           Jason Aldean opens 'SNL' with Vegas tribute   \n",
            "...                                                 ...   \n",
            "4004                                    Trends to Watch   \n",
            "4005  Trump Jr. Is Soon To Give A 30-Minute Speech F...   \n",
            "4006        Ron Paul on Trump, Anarchism & the AltRight   \n",
            "4007  China to accept overseas trial data in bid to ...   \n",
            "4008  Vice President Mike Pence Leaves NFL Game Beca...   \n",
            "\n",
            "                                                   Body  \\\n",
            "0     Image copyright Getty Images\\nOn Sunday mornin...   \n",
            "1     LONDON (Reuters) - “Last Flag Flying”, a comed...   \n",
            "2     The feud broke into public view last week when...   \n",
            "3     MEXICO CITY (Reuters) - Egypt’s Cheiron Holdin...   \n",
            "4     Country singer Jason Aldean, who was performin...   \n",
            "...                                                 ...   \n",
            "4004  Trends to Watch\\n% of readers think this story...   \n",
            "4005  Trump Jr. Is Soon To Give A 30-Minute Speech F...   \n",
            "4006                                                      \n",
            "4007  SHANGHAI (Reuters) - China said it plans to ac...   \n",
            "4008  Vice President Mike Pence Leaves NFL Game Beca...   \n",
            "\n",
            "                                                content  \n",
            "0     Image copyright Getty Images\\nOn Sunday mornin...  \n",
            "1     LONDON (Reuters) - “Last Flag Flying”, a comed...  \n",
            "2     The feud broke into public view last week when...  \n",
            "3     MEXICO CITY (Reuters) - Egypt’s Cheiron Holdin...  \n",
            "4     Country singer Jason Aldean, who was performin...  \n",
            "...                                                 ...  \n",
            "4004  Trends to Watch\\n% of readers think this story...  \n",
            "4005  Trump Jr. Is Soon To Give A 30-Minute Speech F...  \n",
            "4006        Ron Paul on Trump, Anarchism & the AltRight  \n",
            "4007  SHANGHAI (Reuters) - China said it plans to ac...  \n",
            "4008  Vice President Mike Pence Leaves NFL Game Beca...  \n",
            "\n",
            "[4009 rows x 4 columns]\n",
            "0       1\n",
            "1       1\n",
            "2       1\n",
            "3       1\n",
            "4       1\n",
            "       ..\n",
            "4004    0\n",
            "4005    0\n",
            "4006    0\n",
            "4007    1\n",
            "4008    0\n",
            "Name: Label, Length: 4009, dtype: int64\n"
          ]
        }
      ],
      "source": [
        "print(X)\n",
        "print(Y)"
      ]
    },
    {
      "cell_type": "markdown",
      "metadata": {
        "id": "VfyhQeijB_fN"
      },
      "source": [
        "**PorterStemmer()** is a class from the Natural Language Toolkit (NLTK) library in Python that is used for stemming words. Stemming is the process of reducing a word to its base or root form.\n",
        "The stemmed_word variable will contain the stemmed form of the word \"jumping\", which is \"jump\".\n",
        "\n",
        "**Stemming** can be useful in natural language processing (NLP) tasks such as text classification or information retrieval, where words with the same root are treated as equivalent. However, stemming can also result in some loss of information, as different words may be stemmed to the same root, even if they have different meanings."
      ]
    },
    {
      "cell_type": "code",
      "execution_count": null,
      "metadata": {
        "id": "H5ZlF35SiRN3"
      },
      "outputs": [],
      "source": [
        "port_stem = PorterStemmer()"
      ]
    },
    {
      "cell_type": "markdown",
      "metadata": {
        "id": "mMdwCDH1F95Y"
      },
      "source": [
        "Here's a breakdown of what the code does:\n",
        "\n",
        "**stemmed_content** = **re.sub('[^a-zA-Z]',' ',content)**: This line uses regular expressions to remove any non-alphabetic characters from the text and replaces them with a space. This helps to clean up the text and remove any unwanted characters.\n",
        "\n",
        "**stemmed_content** = **stemmed_content.lower():** This line converts all the alphabetic characters in the text to lowercase. This helps to standardize the text and avoid treating words with different capitalization as different words.\n",
        "\n",
        "**stemmed_content** = **stemmed_content.split()**: This line splits the text into a list of individual words, using whitespace as the delimiter.\n",
        "\n",
        "**stemmed_content** = **[port_stem.stem(word) for word in stemmed_content if not word in stopwords.words('english')]**: This line uses a list comprehension to iterate over each word in the list of stemmed words. For each word, it applies the stem() method of the PorterStemmer class to obtain its stem, and checks if the resulting stem is in the NLTK list of English stopwords (i.e., common words that are often removed from text during NLP tasks). If the word is not a stopword, its stem is added to a new list of stemmed words.\n",
        "\n",
        "**stemmed_content** = **' '.join(stemmed_content)**: Finally, this line joins the list of stemmed words back together into a single string, separated by whitespace.\n",
        "\n",
        "The resulting output of the **stemming** function is a stemmed version of the original text, with non-alphabetic characters removed, words converted to lowercase, and stopwords and stemming applied."
      ]
    },
    {
      "cell_type": "code",
      "execution_count": null,
      "metadata": {
        "id": "cvvHvZXaiUcc"
      },
      "outputs": [],
      "source": [
        "def stemming(content):\n",
        "    stemmed_content = re.sub('[^a-zA-Z]',' ',content)\n",
        "    stemmed_content = stemmed_content.lower()\n",
        "    stemmed_content = stemmed_content.split()\n",
        "    stemmed_content = [port_stem.stem(word) for word in stemmed_content if not word in stopwords.words('english')]\n",
        "    stemmed_content = ' '.join(stemmed_content)\n",
        "    return stemmed_content"
      ]
    },
    {
      "cell_type": "markdown",
      "metadata": {
        "id": "4qDbynnkGlhH"
      },
      "source": [
        "**news_dataset**['content']: This selects the 'content' column of the news_dataset DataFrame.\n",
        "\n",
        "**.apply(stemming)** : This applies the stemming function to each element of the 'content' column of the DataFrame. The apply() method is used to apply a function to each element of a Pandas DataFrame or Series.\n",
        "\n",
        "**news_dataset** ['content'] = ...: This assigns the resulting output of the apply() method back to the 'content' column of the news_dataset DataFrame. This updates the values of the 'content' column to be the stemmed version of the original text."
      ]
    },
    {
      "cell_type": "code",
      "execution_count": null,
      "metadata": {
        "colab": {
          "background_save": true
        },
        "id": "3cgTkwwmiXi1"
      },
      "outputs": [],
      "source": [
        "news_dataset['content'] = news_dataset['content'].apply(stemming)"
      ]
    },
    {
      "cell_type": "markdown",
      "metadata": {
        "id": "LKMBHQ-GHT-p"
      },
      "source": [
        "The output should be a Pandas Series containing the stemmed version of the text in the '**content**' column of the DataFrame. Each element of the Series should be a string containing the stemmed words of the original text, with non-alphabetic characters removed, words converted to lowercase, and stopwords and stemming applied."
      ]
    },
    {
      "cell_type": "code",
      "execution_count": null,
      "metadata": {
        "colab": {
          "background_save": true
        },
        "id": "EYXoiRr0ia7s",
        "outputId": "1d8eb1f3-dba7-4497-b4d3-2e092c065d41"
      },
      "outputs": [
        {
          "name": "stdout",
          "output_type": "stream",
          "text": [
            "0       imag copyright getti imag sunday morn donald t...\n",
            "1       london reuter last flag fli comedi drama vietn...\n",
            "2       feud broke public view last week mr corker sai...\n",
            "3       mexico citi reuter egypt cheiron hold limit ri...\n",
            "4       countri singer jason aldean perform la vega sh...\n",
            "                              ...                        \n",
            "4004    trend watch reader think stori fact add two ce...\n",
            "4005    trump jr soon give minut speech reader think s...\n",
            "4006                       ron paul trump anarch altright\n",
            "4007    shanghai reuter china said plan accept data ov...\n",
            "4008    vice presid mike penc leav nfl game anti ameri...\n",
            "Name: content, Length: 4009, dtype: object\n"
          ]
        }
      ],
      "source": [
        "print(news_dataset['content'])"
      ]
    },
    {
      "cell_type": "markdown",
      "metadata": {
        "id": "CDbHGoiZH4Fl"
      },
      "source": [
        "**X = news_dataset['content'].values**: This selects the 'content' column of the news_dataset DataFrame and gets its values as a numpy array. This assigns the resulting array to the variable X.\n",
        "\n",
        "**Y = news_dataset['Label'].values**: This selects the 'Label' column of the news_dataset DataFrame and gets its values as a numpy array. This assigns the resulting array to the variable Y."
      ]
    },
    {
      "cell_type": "code",
      "execution_count": null,
      "metadata": {
        "colab": {
          "background_save": true
        },
        "id": "B2MdjxyFid69"
      },
      "outputs": [],
      "source": [
        "#separating the data and label\n",
        "X = news_dataset['content'].values\n",
        "Y = news_dataset['Label'].values"
      ]
    },
    {
      "cell_type": "markdown",
      "metadata": {
        "id": "f318Wi7EIIz-"
      },
      "source": [
        "The output should be a one-dimensional numpy array where each element is a string representing the preprocessed text content of a news article. These strings should contain only lowercase alphabetic characters and whitespace, with stopwords and stemming applied."
      ]
    },
    {
      "cell_type": "code",
      "execution_count": null,
      "metadata": {
        "colab": {
          "background_save": true
        },
        "id": "4pCtaheoihrV",
        "outputId": "3d2e7966-8e5b-4b43-f322-6ed875d55a1a"
      },
      "outputs": [
        {
          "name": "stdout",
          "output_type": "stream",
          "text": [
            "['imag copyright getti imag sunday morn donald trump went twitter tirad member parti exactli huge news far first time presid turn rhetor cannon rank time howev attack particularli bite person essenti call tennesse senat bob corker chair power senat foreign relat committe coward run elect said mr corker beg presid endors refus give wrongli claim mr corker support iranian nuclear agreement polit accomplish unlik colleagu mr corker free worri immedi polit futur hold tongu skip twitter post senbobcork shame white hous becom adult day care center someon obvious miss shift morn senat bob corker senbobcork octob report end though spoke new york time realli let presid four choic quot tennesse senat interview time particularli damn know presid tweet thing true know everyon know realli sugarcoat one mr corker flat say presid liar everyon know senat particular challeng mr trump insist unsuccess plead endors accus much broader mr corker presid use someth akin alli tennessean mr trump short list vice presid secretari state imag copyright getti imag imag caption bob corker trump campaign ralli juli day seemingli much like mr corker go anywher anytim soon although run elect senat chair power committe januari presid margin success chamber razor thin democrat continu stand togeth opposit afford lose two vote republican senat healthcar reform collaps juli could bad news tax effort mr corker go presid favour look except peopl vast major caucu understand deal frustrat congress grow republican feel presid inabl focu advanc agenda get sharpli divid parti come togeth plan repeal obamacar reform tax boost infrastructur spend challeng enough presid stir unrel controversi seemingli daili basi make thing harder one presid gift abil shake neg stori quickli move differ subject work brilliantli presidenti campaign less effect legisl slow grind imag copyright getti imag imag caption corker confirm hear secretari state rex tillerson month republican congress grumbl background among occasion someon like mr mcconnel lament presid understand senat work mr corker state loud clear say almost everyon agre kept silent still hope pass conserv legisl presid sign fear mr trump legion back primari challeng next year stay home gener elect calculu ever chang becom riskier stay silent speak mr trump real troubl lot peopl think kind good cop bad cop act underway true time mr trump appear undercut secretari state rex tillerson other administr attempt use soft diplomaci deal rang intern crise war taliban afghanistan iran complianc multin nuclear agreement ongo disput qatar persian gulf neighbour unrest venezuela recent north korea continu ballist missil test target presid offhand remark twitter invect administr defend said part mr trump strategi updat version nixon era madman theori presid forc adversari give way fear unpredict us leader action mr corker buy strategi say possibl chao hope mr trump senior advis abl avoid know fact everi singl day white hous situat tri contain grow collect john kelli face palm photo serv testament chief staff report frustrat deal presid mr trump goe script prais torch bear white nationalist ralli charlottesvil mr kelli captur close eye rub arch nose attempt stave migrain imag copyright reuter imag caption white hous chief staff john kelli look us presid donald trump speak campaign ralli presid call north korean leader crimin speech unit nation mr kelli straight buri face hand white hous commun team often left scrambl tri explain refram indel presidenti joke remark directli contradict offici administr line even though mr kelli brought disciplin west wing staff presid still march beat drum continu unfett access phone twitter app bob corker latest person politician journalist sport star celebr feel mercuri presid uncontain ire four way bob corker skewer donald trump'\n",
            " 'london reuter last flag fli comedi drama vietnam war veteran reson trump america despit perhap period set actor bryan cranston said sunday screen london film festiv set unit state decemb u forc iraq drag saddam hussein spider hole stori three age former servicemen reunit buri son one kill action presid donald trump say could total destroy north korea character dinner militari command calm storm cranston said last flag fli time remind effect normal american ill advis militari campaign think lot relev today sens today clear cut far intent govern militari cranston acclaim lead role tv drama break bad told reuter world war two good war clear present danger stop mad man sinc vietnam iraq lot question among troop citizen right thing purpos cast member bryan cranston r director richard linklat pose festiv director clair stewart arriv premier last flag fli british film institut bfi london film festiv odeon leicest squar london britain octob reuter afolabi sotund last flag fli produc amazon studio direct co written richard linklat whose greatest critic acclaim naturalist sunset trilog boyhood slew oscar nomin linklat also made comedi includ school rock everybodi want skirt chase undergradu last flag fli fall somewher two genr cast member bryan cranston r pose director richard linklat arriv premier last flag fli british film institut bfi london film festiv odeon leicest squar london britain octob reuter afolabi sotund drama comedi stem chemistri three lead play big hollywood name steve carel awkward shi one assum quiet withdrawn even loss son cranston play foul mouth hard drink bar owner best custom laurenc fishburn man found god becom evangel preacher prefer forget sex drug indulg back nam vaniti fair richard lawson said film abil honor footsoldi critic war sent fight could hit academi sweet spot satisfi conserv oldster younger leftier type critic said last flag fli lack light touch linklat best work guardian benjamin lee call half bake tv movi masquerad oscarbait curiou misstep oscar nomin indi auteur write robin pomeroy edit david evan linklat war veteran comedi speak modern america say star'\n",
            " 'feud broke public view last week mr corker said mr trump advis guard chao presid retali sunday say retir senat gut run anoth term mr corker respond twitter hour later say white hous becom adult day care center unload interview new york time say public mani republican colleagu say privat presid danger errat treat high offic like realiti show contain staff reckless enough put countri path world war iii mr corker moder tempera well ideolog measur occasion critic mr trump month hope influenc foreign polici evid feel liber decid run third term incumb republican rush microphon echo comment monday sever made littl attempt hide irrit mr trump attack mr corker import part team particularli import part budget debat floor next week mr mcconnel said pointedli event hazard ky scott pruitt head environment protect agenc bob corker leader congress issu divers deficit reduct combat terror man unwav integr senat rob portman republican ohio said statement go accomplish econom nation secur agenda go work togeth period mr mcconnel associ blunter express leadership frustrat presid disrupt parti uniti republican push tax cut go hard matter said billi piper mr mcconnel former chief staff took guy one linchpin inciner reason advertis continu read main stori white hous spent monday tell alli mr corker respons fight mr trump senat attent seek obstructionist newslett sign continu read main stori pleas verifi robot click box invalid email address pleas enter must select newslett subscrib sign agre receiv occasion updat special offer new york time product servic thank subscrib error occur pleas tri later view new york time newslett find tweet like incred irrespons kellyann conway presid counselor told fox news refer mr corker post respons mr trump sunday add insult mainstream media presid detractor almost year elect still accept elect result add abil cover speak presid unit state way presid talk vice presid mike penc left defend mr trump call empti rhetor baseless attack say presid accomplish lot intern today nation stand without apolog leader free world mr penc said statement american leadership world stage look like amount critic home diminish result mr trump grown frustrat senat republican includ lash mr mcconnel get job done legisl repeal presid barack obama health care program repeatedli block engag open conflict senat john mccain jeff flake arizona lindsey graham south carolina lisa murkowski alaska among other although monday went golf mr graham republican senat share mr trump frustrat gridlock senat want thing move quickli said senat thom tilli north carolina elect peopl frustrat lack result senat david perdu georgia anoth member class even outspoken vent fellow republican derail health care legisl peopl upset republican senat back agenda presid said mr trump former chief strategist stephen k bannon act say presid interest organ rebellion republican establish recruit candid challeng incumb senat primari next year think presid trump behind close door mr bannon said fox news monday night refer mr corker comment call senat resign mr penc chief staff talk purg republican loyal mr trump may keep republican board even agre mr corker senat doubt presid ask john feeheri longtim republican congression aid probabl true also larg irrelev presid find way get stuff done otherwis face wrath voter someth bob corker longer worri effect mr mccain ms murkowski senat susan collin main alreadi free agent mani issu regular defect mr corker would make presid abil pass legisl much harder absent bipartisan deal democrat advertis continu read main stori chairman senat foreign relat committe mr corker could block confirm new secretari state mr trump push embattl chief diplomat rex w tillerson also presum would play key role decis whether tear iran nuclear deal senat republican frustrat trump start boil said alex conant former senat republican aid sure feel mutual insid white hous relationship alway tenuou best corker comment new low point get lot done would easier everyon get along mr conant said cours fact get along also make harder get anyth done trump fight corker jeopard legisl agenda'\n",
            " ... 'ron paul trump anarch altright'\n",
            " 'shanghai reuter china said plan accept data oversea clinic trial speed approv drug potenti boon intern drugmak well patient often face lengthi delay new medicin reach market move outlin cabinet late sunday seek address high medicin cost access healthcar china popul nearli billion past five year china approv innov new drug one third number develop market accept oversea clinic data help global drugmak time grow competit chines rival world second biggest pharmaceut market well pressur author anxiou rein price overal china support scientif innov drug medic devic lack qualiti product market still fall short top intern level draft propos said must speed examin approv urgent need drug medic devic cabinet also said would look improv protect medic intellectu properti boost number qualiti clinic trial test center china propos contain timelin implement want make drug industri larg scale strong make competit shift long term relianc import new drug wu zhen deputi head china food drug administr told brief monday drug use oversea year make market china wu ad china march propos way speed approv import drug includ reform clinic trial requir also want boost drug industri see shift gener drug toward innov medicin medic equip report adam jourdan edit richard borsuk edwina gibb china accept oversea trial data bid speed drug approv'\n",
            " 'vice presid mike penc leav nfl game anti american protest reader think stori fact add two cent news donn marten vice presid mike penc attend today nation footbal leagu game indianapoli colt san francisco er chose leav sever player chose use presenc make anti american polit statement cdn http www conservativedailynew com colt honor longtim player futur hall fame quarterback peyton man ceremoni home team respect flag stand action oppos san francisco er seen suffici disrespect veep depart venu kickoff report indianapoli fox affili fox vp mike penc leav colt game er player knelt anthem vice presid mike penc decid leav indianapoli colt game sunday er player knelt nation anthem tweet former indiana governor said left today colt game potu dignifi event disrespect soldier flag nation anthem minut tweet offic releas full statement left today colt game presid trump dignifi event disrespect soldier flag nation anthem time mani american inspir nation courag resolv resili ever ralli around flag everyth unit us everyon entitl opinion think much ask nfl player respect flag nation anthem stand presid trump stand soldier alway stand flag nation anthem announc friday penc would attend game second ladi game special peyton man jersey retir halftim induct ring honor game tweet look forward honor great career peyton man penc action doubt seiz pollut nfl racial grievanc hatr presid trump proof stand white supremaci nazism dead right leav mani fan attend done well instead subject polit radic leftist racial grievanc monger driven leagu popular histor low vice presid express follow via twitter vice presid penc vp repli vp everyon entitl opinion think much ask nfl player respect flag nation anthem vice presid penc vp left today colt game potu dignifi event disrespect soldier flag nation anthem oct penc formerli governor indiana nfl need even neg public earli game even kick read vice presid mike penc leav nfl game anti american protest origin content conserv daili news conserv daili news american go news current event commentari trust cdn http www conservativedailynew com sourc http www conservativedailynew com vice presid mike penc leav nfl game anti american protest vice presid mike penc leav nfl game anti american protest']\n"
          ]
        }
      ],
      "source": [
        "print(X)"
      ]
    },
    {
      "cell_type": "markdown",
      "metadata": {
        "id": "4aHnfK0aIeOV"
      },
      "source": [
        "The output should be a one-dimensional numpy array where each element is a binary label (0 or 1) indicating whether the corresponding news article is categorized as \"real\" or \"fake\". A label of 0 indicates the article is \"real\", while a label of 1 indicates the article is \"fake\"."
      ]
    },
    {
      "cell_type": "code",
      "execution_count": null,
      "metadata": {
        "colab": {
          "background_save": true
        },
        "id": "k0WE0CkSildN",
        "outputId": "990ab502-6777-4ef5-94ed-39838766fe8d"
      },
      "outputs": [
        {
          "name": "stdout",
          "output_type": "stream",
          "text": [
            "[1 1 1 ... 0 1 0]\n"
          ]
        }
      ],
      "source": [
        "print(Y)"
      ]
    },
    {
      "cell_type": "code",
      "execution_count": null,
      "metadata": {
        "colab": {
          "background_save": true
        },
        "id": "AzDVjHq3in7f",
        "outputId": "5cf90f23-684c-446b-98c5-c327eb83a608"
      },
      "outputs": [
        {
          "data": {
            "text/plain": [
              "(4009,)"
            ]
          },
          "execution_count": 84,
          "metadata": {},
          "output_type": "execute_result"
        }
      ],
      "source": [
        "Y.shape"
      ]
    },
    {
      "cell_type": "markdown",
      "metadata": {
        "id": "DgFJpdE-J4yC"
      },
      "source": [
        "**vectorizer = TfidfVectorizer()**: This creates an instance of the TfidfVectorizer class, which is used to convert text data into a numerical format using the term frequency-inverse document frequency (TF-IDF) algorithm.\n",
        "\n",
        "**vectorizer.fit(X)**: This fits the vectorizer to the preprocessed text data in X, which calculates the IDF values for each term in the text corpus.\n",
        "\n",
        "**X = vectorizer.transform(X)**: This uses the fitted vectorizer to transform the preprocessed text data in X into a sparse matrix of TF-IDF feature vectors, where each row represents a news article and each column represents a term in the text corpus."
      ]
    },
    {
      "cell_type": "code",
      "execution_count": null,
      "metadata": {
        "colab": {
          "background_save": true
        },
        "id": "S5dF9XijirWq"
      },
      "outputs": [],
      "source": [
        "# converting the textual data to numerical data\n",
        "vectorizer = TfidfVectorizer()\n",
        "vectorizer.fit(X)\n",
        "\n",
        "X = vectorizer.transform(X)"
      ]
    },
    {
      "cell_type": "code",
      "execution_count": null,
      "metadata": {
        "colab": {
          "background_save": true
        },
        "id": "diX5LxjTiu9t",
        "outputId": "e72f9443-2eaf-488c-991b-7f3fd7544be7"
      },
      "outputs": [
        {
          "name": "stdout",
          "output_type": "stream",
          "text": [
            "  (0, 30184)\t0.015577335446991065\n",
            "  (0, 30105)\t0.010138100956414153\n",
            "  (0, 29925)\t0.04071381287423977\n",
            "  (0, 29866)\t0.02302556735837691\n",
            "  (0, 29839)\t0.02594843079913226\n",
            "  (0, 29701)\t0.02731627067801335\n",
            "  (0, 29551)\t0.0903446717463179\n",
            "  (0, 29459)\t0.021597618227067437\n",
            "  (0, 29444)\t0.017771302554684214\n",
            "  (0, 29311)\t0.02697433639807544\n",
            "  (0, 29222)\t0.018730200435309236\n",
            "  (0, 29075)\t0.021387359321615517\n",
            "  (0, 28853)\t0.02468949435722926\n",
            "  (0, 28802)\t0.024215820940514617\n",
            "  (0, 28753)\t0.03475630898700329\n",
            "  (0, 28690)\t0.029253905378133573\n",
            "  (0, 28537)\t0.02391375950042295\n",
            "  (0, 28523)\t0.024497471826251886\n",
            "  (0, 28449)\t0.019495776258929093\n",
            "  (0, 28383)\t0.036139116901976395\n",
            "  (0, 28337)\t0.03646156433375988\n",
            "  (0, 28328)\t0.037974920420926095\n",
            "  (0, 28300)\t0.037167646453401565\n",
            "  (0, 28252)\t0.023056310182459756\n",
            "  (0, 28229)\t0.01446617290179376\n",
            "  :\t:\n",
            "  (4008, 6338)\t0.042467699965906804\n",
            "  (4008, 6225)\t0.020215512049593334\n",
            "  (4008, 5853)\t0.03714317999258209\n",
            "  (4008, 5597)\t0.020634751853156684\n",
            "  (4008, 5544)\t0.08005178451950072\n",
            "  (4008, 5541)\t0.046193262440048795\n",
            "  (4008, 5325)\t0.03276867559423047\n",
            "  (4008, 5293)\t0.04498231201561313\n",
            "  (4008, 5285)\t0.2241073412439385\n",
            "  (4008, 4821)\t0.06571595543766014\n",
            "  (4008, 4457)\t0.03508445570008598\n",
            "  (4008, 4429)\t0.020964074822727632\n",
            "  (4008, 4370)\t0.05295327842375796\n",
            "  (4008, 4115)\t0.02427302851817459\n",
            "  (4008, 1620)\t0.07776767139870346\n",
            "  (4008, 1494)\t0.03786843302955785\n",
            "  (4008, 1381)\t0.017226270178953607\n",
            "  (4008, 1106)\t0.12976943524372878\n",
            "  (4008, 1098)\t0.2187858398571727\n",
            "  (4008, 1068)\t0.02229426313886801\n",
            "  (4008, 881)\t0.1256839170007312\n",
            "  (4008, 826)\t0.020565295068425745\n",
            "  (4008, 372)\t0.03436771469147665\n",
            "  (4008, 240)\t0.017917814976555403\n",
            "  (4008, 217)\t0.042467699965906804\n"
          ]
        }
      ],
      "source": [
        "print(X)"
      ]
    },
    {
      "cell_type": "markdown",
      "metadata": {
        "id": "UMyvzj3QKp4y"
      },
      "source": [
        "**train_test_split(X, Y, test_size=0.2, stratify=Y, random_state=2)**: This function splits the data and labels into training and testing sets, with 20% of the data allocated to the test set. The stratify parameter is set to Y, which ensures that the class balance is maintained in both the training and testing sets. The random_state parameter is set to 2 to ensure that the split is reproducible.\n",
        "\n",
        "**X_train, X_test, Y_train, Y_test**: This unpacks the output of the train_test_split function into four variables: X_train and Y_train represent the training set data and labels, while X_test and Y_test represent the test set data and labels."
      ]
    },
    {
      "cell_type": "code",
      "execution_count": null,
      "metadata": {
        "colab": {
          "background_save": true
        },
        "id": "5sXHIy_3izOL"
      },
      "outputs": [],
      "source": [
        "X_train, X_test, Y_train, Y_test = train_test_split(X, Y, test_size = 0.2, stratify=Y, random_state=2)"
      ]
    },
    {
      "cell_type": "markdown",
      "metadata": {
        "id": "SRp3Z6QU29AG"
      },
      "source": [
        "**Classifier** -\n",
        " In machine learning, classification is a predictive modeling problem where the class label is anticipated for a specific example of input data. Classification tries to find the decision boundary, which divides the dataset into different classes."
      ]
    },
    {
      "cell_type": "markdown",
      "metadata": {
        "id": "UmkjsqFdLNnJ"
      },
      "source": [
        "**Logistic regression** is a machine learning algorithm that is commonly used for binary classification problems, where the goal is to predict a binary label (e.g., 0 or 1) based on a set of input features."
      ]
    },
    {
      "cell_type": "code",
      "execution_count": null,
      "metadata": {
        "colab": {
          "background_save": true
        },
        "id": "wAwdWyRCkWy5"
      },
      "outputs": [],
      "source": [
        "model = LogisticRegression()"
      ]
    },
    {
      "cell_type": "code",
      "execution_count": null,
      "metadata": {
        "colab": {
          "background_save": true
        },
        "id": "A2tIZmnZkavl",
        "outputId": "69fdfcd1-03fb-4c9d-9dd3-755d412cd704"
      },
      "outputs": [
        {
          "data": {
            "text/html": [
              "<style>#sk-container-id-2 {color: black;background-color: white;}#sk-container-id-2 pre{padding: 0;}#sk-container-id-2 div.sk-toggleable {background-color: white;}#sk-container-id-2 label.sk-toggleable__label {cursor: pointer;display: block;width: 100%;margin-bottom: 0;padding: 0.3em;box-sizing: border-box;text-align: center;}#sk-container-id-2 label.sk-toggleable__label-arrow:before {content: \"▸\";float: left;margin-right: 0.25em;color: #696969;}#sk-container-id-2 label.sk-toggleable__label-arrow:hover:before {color: black;}#sk-container-id-2 div.sk-estimator:hover label.sk-toggleable__label-arrow:before {color: black;}#sk-container-id-2 div.sk-toggleable__content {max-height: 0;max-width: 0;overflow: hidden;text-align: left;background-color: #f0f8ff;}#sk-container-id-2 div.sk-toggleable__content pre {margin: 0.2em;color: black;border-radius: 0.25em;background-color: #f0f8ff;}#sk-container-id-2 input.sk-toggleable__control:checked~div.sk-toggleable__content {max-height: 200px;max-width: 100%;overflow: auto;}#sk-container-id-2 input.sk-toggleable__control:checked~label.sk-toggleable__label-arrow:before {content: \"▾\";}#sk-container-id-2 div.sk-estimator input.sk-toggleable__control:checked~label.sk-toggleable__label {background-color: #d4ebff;}#sk-container-id-2 div.sk-label input.sk-toggleable__control:checked~label.sk-toggleable__label {background-color: #d4ebff;}#sk-container-id-2 input.sk-hidden--visually {border: 0;clip: rect(1px 1px 1px 1px);clip: rect(1px, 1px, 1px, 1px);height: 1px;margin: -1px;overflow: hidden;padding: 0;position: absolute;width: 1px;}#sk-container-id-2 div.sk-estimator {font-family: monospace;background-color: #f0f8ff;border: 1px dotted black;border-radius: 0.25em;box-sizing: border-box;margin-bottom: 0.5em;}#sk-container-id-2 div.sk-estimator:hover {background-color: #d4ebff;}#sk-container-id-2 div.sk-parallel-item::after {content: \"\";width: 100%;border-bottom: 1px solid gray;flex-grow: 1;}#sk-container-id-2 div.sk-label:hover label.sk-toggleable__label {background-color: #d4ebff;}#sk-container-id-2 div.sk-serial::before {content: \"\";position: absolute;border-left: 1px solid gray;box-sizing: border-box;top: 0;bottom: 0;left: 50%;z-index: 0;}#sk-container-id-2 div.sk-serial {display: flex;flex-direction: column;align-items: center;background-color: white;padding-right: 0.2em;padding-left: 0.2em;position: relative;}#sk-container-id-2 div.sk-item {position: relative;z-index: 1;}#sk-container-id-2 div.sk-parallel {display: flex;align-items: stretch;justify-content: center;background-color: white;position: relative;}#sk-container-id-2 div.sk-item::before, #sk-container-id-2 div.sk-parallel-item::before {content: \"\";position: absolute;border-left: 1px solid gray;box-sizing: border-box;top: 0;bottom: 0;left: 50%;z-index: -1;}#sk-container-id-2 div.sk-parallel-item {display: flex;flex-direction: column;z-index: 1;position: relative;background-color: white;}#sk-container-id-2 div.sk-parallel-item:first-child::after {align-self: flex-end;width: 50%;}#sk-container-id-2 div.sk-parallel-item:last-child::after {align-self: flex-start;width: 50%;}#sk-container-id-2 div.sk-parallel-item:only-child::after {width: 0;}#sk-container-id-2 div.sk-dashed-wrapped {border: 1px dashed gray;margin: 0 0.4em 0.5em 0.4em;box-sizing: border-box;padding-bottom: 0.4em;background-color: white;}#sk-container-id-2 div.sk-label label {font-family: monospace;font-weight: bold;display: inline-block;line-height: 1.2em;}#sk-container-id-2 div.sk-label-container {text-align: center;}#sk-container-id-2 div.sk-container {/* jupyter's `normalize.less` sets `[hidden] { display: none; }` but bootstrap.min.css set `[hidden] { display: none !important; }` so we also need the `!important` here to be able to override the default hidden behavior on the sphinx rendered scikit-learn.org. See: https://github.com/scikit-learn/scikit-learn/issues/21755 */display: inline-block !important;position: relative;}#sk-container-id-2 div.sk-text-repr-fallback {display: none;}</style><div id=\"sk-container-id-2\" class=\"sk-top-container\"><div class=\"sk-text-repr-fallback\"><pre>LogisticRegression()</pre><b>In a Jupyter environment, please rerun this cell to show the HTML representation or trust the notebook. <br />On GitHub, the HTML representation is unable to render, please try loading this page with nbviewer.org.</b></div><div class=\"sk-container\" hidden><div class=\"sk-item\"><div class=\"sk-estimator sk-toggleable\"><input class=\"sk-toggleable__control sk-hidden--visually\" id=\"sk-estimator-id-2\" type=\"checkbox\" checked><label for=\"sk-estimator-id-2\" class=\"sk-toggleable__label sk-toggleable__label-arrow\">LogisticRegression</label><div class=\"sk-toggleable__content\"><pre>LogisticRegression()</pre></div></div></div></div></div>"
            ],
            "text/plain": [
              "LogisticRegression()"
            ]
          },
          "execution_count": 89,
          "metadata": {},
          "output_type": "execute_result"
        }
      ],
      "source": [
        "model.fit(X_train, Y_train)"
      ]
    },
    {
      "cell_type": "code",
      "execution_count": null,
      "metadata": {
        "colab": {
          "background_save": true
        },
        "id": "ghsb-PVSkelc"
      },
      "outputs": [],
      "source": [
        "# accuracy score on the training data\n",
        "X_train_prediction = model.predict(X_train)\n",
        "training_data_accuracy = accuracy_score(X_train_prediction, Y_train)"
      ]
    },
    {
      "cell_type": "code",
      "execution_count": null,
      "metadata": {
        "colab": {
          "background_save": true
        },
        "id": "PTVwFytLkhp1",
        "outputId": "8993a630-6878-48a4-edf8-949a2ffb8a9d"
      },
      "outputs": [
        {
          "name": "stdout",
          "output_type": "stream",
          "text": [
            "Accuracy score of the training data :  0.990645463049579\n"
          ]
        }
      ],
      "source": [
        "print('Accuracy score of the training data : ', training_data_accuracy)"
      ]
    },
    {
      "cell_type": "code",
      "execution_count": null,
      "metadata": {
        "colab": {
          "background_save": true
        },
        "id": "Qu13X8ePklof"
      },
      "outputs": [],
      "source": [
        "# accuracy score on the test data\n",
        "X_test_prediction = model.predict(X_test)\n",
        "test_data_accuracy = accuracy_score(X_test_prediction, Y_test)"
      ]
    },
    {
      "cell_type": "code",
      "execution_count": null,
      "metadata": {
        "colab": {
          "background_save": true
        },
        "id": "oO9HXCgLlFwF",
        "outputId": "f6520a25-ddb3-41ff-f664-24ea16a8f42b"
      },
      "outputs": [
        {
          "name": "stdout",
          "output_type": "stream",
          "text": [
            "Accuracy score of the test data :  0.9613466334164589\n"
          ]
        }
      ],
      "source": [
        "print('Accuracy score of the test data : ', test_data_accuracy)"
      ]
    },
    {
      "cell_type": "code",
      "execution_count": null,
      "metadata": {
        "colab": {
          "background_save": true
        },
        "id": "ffM35u68lJAM",
        "outputId": "2638e90b-554d-4d8d-e43f-0353cc5245b9"
      },
      "outputs": [
        {
          "name": "stdout",
          "output_type": "stream",
          "text": [
            "[1]\n",
            "The news is Fake\n"
          ]
        }
      ],
      "source": [
        "X_new = X_test[89]\n",
        "\n",
        "prediction = model.predict(X_new)\n",
        "print(prediction)\n",
        "\n",
        "if (prediction[0]==0):\n",
        "  print('The news is Real')\n",
        "else:\n",
        "  print('The news is Fake')"
      ]
    },
    {
      "cell_type": "code",
      "execution_count": null,
      "metadata": {
        "colab": {
          "background_save": true
        },
        "id": "TuIPlDzblNgr",
        "outputId": "08b606a6-fb99-49f9-e774-24705efa05c9"
      },
      "outputs": [
        {
          "name": "stdout",
          "output_type": "stream",
          "text": [
            "0\n"
          ]
        }
      ],
      "source": [
        "print(Y_test[75])"
      ]
    },
    {
      "cell_type": "markdown",
      "metadata": {
        "id": "uvwN1iH3LtVc"
      },
      "source": [
        "**Decision trees** are a machine learning algorithm that can be used for both regression and classification problems. They work by recursively partitioning the feature space into smaller and smaller subsets based on the values of the input features, until the subsets are homogeneous with respect to the output variable."
      ]
    },
    {
      "cell_type": "code",
      "execution_count": null,
      "metadata": {
        "colab": {
          "background_save": true
        },
        "id": "ftSYtOZgXYr-",
        "outputId": "05b9e2a0-ce19-410c-d13b-ae1fb69f527c"
      },
      "outputs": [
        {
          "data": {
            "text/plain": [
              "0.9064837905236908"
            ]
          },
          "execution_count": 96,
          "metadata": {},
          "output_type": "execute_result"
        }
      ],
      "source": [
        "# Using simple Decision Tree classifier\n",
        "from sklearn import tree\n",
        "dt_clf = tree.DecisionTreeClassifier(max_depth=5)\n",
        "dt_clf.fit(X_train, Y_train)\n",
        "dt_clf.score(X_test, Y_test)"
      ]
    },
    {
      "cell_type": "markdown",
      "metadata": {
        "id": "pCsmvwxEL1eK"
      },
      "source": [
        "**Random Forest Classifier** is a popular ensemble learning method that combines multiple decision trees to create a more robust model. It works by constructing multiple decision trees using randomly sampled subsets of the training data and features, and then aggregating the predictions of the individual trees to make a final prediction."
      ]
    },
    {
      "cell_type": "code",
      "execution_count": null,
      "metadata": {
        "colab": {
          "background_save": true
        },
        "id": "mcllZ3j9XiOx",
        "outputId": "d57acba5-a096-4060-fa00-b62847b548cb"
      },
      "outputs": [
        {
          "data": {
            "text/plain": [
              "0.9650872817955112"
            ]
          },
          "execution_count": 97,
          "metadata": {},
          "output_type": "execute_result"
        }
      ],
      "source": [
        "#Perform Classification Using Random Forest Classifier\n",
        "from sklearn import ensemble\n",
        "rf_clf = ensemble.RandomForestClassifier(n_estimators=100)\n",
        "rf_clf.fit(X_train, Y_train)\n",
        "rf_clf.score(X_test, Y_test)"
      ]
    },
    {
      "cell_type": "markdown",
      "metadata": {
        "id": "dZYeMJTU3LUC"
      },
      "source": [
        "**Gradient Boosting** is a functional gradient algorithm that repeatedly selects a function that leads in the direction of a weak hypothesis or negative gradient so that it can minimize a loss function.\n",
        "\n",
        "We use **gradient boosting** to solve classification and regression problems. It is a sequential ensemble learning technique where the performance of the model improves over iterations. This method creates the model in a stage-wise fashion."
      ]
    },
    {
      "cell_type": "code",
      "execution_count": null,
      "metadata": {
        "colab": {
          "background_save": true
        },
        "id": "TnvHQwvTYlAx",
        "outputId": "17243ab9-7113-48e7-b27b-7d6fd22f4440"
      },
      "outputs": [
        {
          "data": {
            "text/plain": [
              "0.9713216957605985"
            ]
          },
          "execution_count": 98,
          "metadata": {},
          "output_type": "execute_result"
        }
      ],
      "source": [
        "#Perform Classification Using Gradient Boosting Classifier\n",
        "gb_clf = ensemble.GradientBoostingClassifier()\n",
        "gb_clf.fit(X_train, Y_train)\n",
        "gb_clf.score(X_test, Y_test)"
      ]
    },
    {
      "cell_type": "code",
      "execution_count": null,
      "metadata": {
        "colab": {
          "background_save": true
        },
        "id": "EicRUrooYp9F",
        "outputId": "16ff021f-40b3-4d41-8736-9d7df91e3430"
      },
      "outputs": [
        {
          "data": {
            "text/plain": [
              "0.9588528678304239"
            ]
          },
          "execution_count": 99,
          "metadata": {},
          "output_type": "execute_result"
        }
      ],
      "source": [
        "# Let's  tune this Gradient booster.\n",
        "gb_clf = ensemble.GradientBoostingClassifier(n_estimators=50)\n",
        "gb_clf.fit(X_train,Y_train)\n",
        "gb_clf.score(X_test, Y_test)"
      ]
    },
    {
      "cell_type": "markdown",
      "metadata": {
        "id": "m6v_9izAMASV"
      },
      "source": [
        "**Naive Bayes Classifier** is a simple yet effective probabilistic machine learning algorithm that is commonly used for classification tasks. It is based on the Bayes theorem and assumes that all input features are independent of each other, hence the name \"naive\"."
      ]
    },
    {
      "cell_type": "code",
      "execution_count": null,
      "metadata": {
        "colab": {
          "background_save": true
        },
        "id": "t1UAF5XhboDS",
        "outputId": "3adad318-a598-4769-dee2-696b7ab96f6d"
      },
      "outputs": [
        {
          "data": {
            "text/plain": [
              "0.9239401496259352"
            ]
          },
          "execution_count": 100,
          "metadata": {},
          "output_type": "execute_result"
        }
      ],
      "source": [
        "#Classification Using Navie Bayes Classifer\n",
        "from sklearn.naive_bayes import MultinomialNB\n",
        "nb_clf = MultinomialNB()\n",
        "nb_clf.fit(X_train,Y_train)\n",
        "nb_clf.score(X_test, Y_test)"
      ]
    },
    {
      "cell_type": "markdown",
      "metadata": {
        "id": "VFZTMqtNMKoG"
      },
      "source": [
        "**K-Nearest Neighbor (K-NN)** is a popular supervised learning algorithm that can be used for both regression and classification tasks. It works by finding the k nearest neighbors to a given input sample in the training data and using their labels to make a prediction for the input sample."
      ]
    },
    {
      "cell_type": "code",
      "execution_count": null,
      "metadata": {
        "colab": {
          "background_save": true
        },
        "id": "v2Vd9cxVb2d0",
        "outputId": "7a45a412-5d04-4cec-8be1-0a742c5a9450"
      },
      "outputs": [
        {
          "data": {
            "text/plain": [
              "0.9164588528678305"
            ]
          },
          "execution_count": 101,
          "metadata": {},
          "output_type": "execute_result"
        }
      ],
      "source": [
        "#K-nearest Neighbour Classifer\n",
        "from sklearn.neighbors import KNeighborsClassifier\n",
        "knn_clf = KNeighborsClassifier(n_neighbors=3)\n",
        "knn_clf.fit(X_train,Y_train)\n",
        "knn_clf.score(X_test, Y_test)"
      ]
    },
    {
      "cell_type": "markdown",
      "metadata": {
        "id": "dOoe4nEr3fvC"
      },
      "source": [
        "A **support vector machine** (SVM) is a supervised machine learning model that uses classification algorithms for two-group classification problems.\n",
        "\n",
        "After giving SVM model sets of labelled training data for each category, they're able to categorize new text."
      ]
    },
    {
      "cell_type": "code",
      "execution_count": null,
      "metadata": {
        "colab": {
          "background_save": true
        },
        "id": "q1o0NzwWb7vu",
        "outputId": "48ea8351-fe89-493f-d1ef-0978cbfbab39"
      },
      "outputs": [
        {
          "data": {
            "text/plain": [
              "0.986284289276808"
            ]
          },
          "execution_count": 102,
          "metadata": {},
          "output_type": "execute_result"
        }
      ],
      "source": [
        "#SVM\n",
        "from sklearn.svm import SVC\n",
        "sv_clf = SVC(probability=True, kernel='linear')\n",
        "sv_clf.fit(X_train, Y_train)\n",
        "sv_clf.score(X_test, Y_test)"
      ]
    },
    {
      "cell_type": "markdown",
      "metadata": {
        "id": "_inNedlfNuB_"
      },
      "source": [
        "![image.png](data:image/png;base64,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)"
      ]
    },
    {
      "cell_type": "markdown",
      "metadata": {
        "id": "StecXYUOhI6f"
      },
      "source": [
        "# **Confusion Matrix**\n",
        "A confusion matrix is a table used to evaluate the performance of a classifier by comparing its predictions to the true labels of the data. The rows of the matrix represent the actual (true) labels, while the columns represent the predicted labels. The diagonal elements of the matrix represent the number of correctly classified instances, while the off-diagonal elements represent the misclassified instances."
      ]
    },
    {
      "cell_type": "markdown",
      "metadata": {
        "id": "a1uKTIaMOftG"
      },
      "source": [
        "**True Positive:** Actually positive (ground truth), predicted as positive (correctly classified)\n",
        "\n",
        "**True Negative:** Actually negative (ground truth), predicted as negative (correctly classified)\n",
        "\n",
        "**False Positive:** Actually negative (ground truth), predicted as positive (misclassified)\n",
        "\n",
        "**False Negative:** Actually positive (ground truth), predicted as negative (misclassified)"
      ]
    },
    {
      "cell_type": "code",
      "execution_count": null,
      "metadata": {
        "colab": {
          "background_save": true
        },
        "id": "CnShVLoiFpQs",
        "outputId": "57561b2e-3dc0-4c4d-9773-d9154d2d39b0"
      },
      "outputs": [
        {
          "data": {
            "image/png": "[encoded data removed]",
            "text/plain": [
              "<Figure size 360x360 with 2 Axes>"
            ]
          },
          "metadata": {},
          "output_type": "display_data"
        },
        {
          "name": "stdout",
          "output_type": "stream",
          "text": [
            "Accuracy Logistic Regression : 0.961\n",
            "Precision Logistic Regression : 0.961\n",
            "Recall Logistic Regression : 0.961\n",
            "f1-score Logistic Regression : 0.961\n"
          ]
        }
      ],
      "source": [
        "from sklearn.metrics import confusion_matrix\n",
        "import seaborn as sns\n",
        "from sklearn.metrics import precision_score\n",
        "from sklearn.metrics import accuracy_score\n",
        "from sklearn.metrics import recall_score\n",
        "from sklearn.metrics import f1_score\n",
        "\n",
        "#Logistic Regression\n",
        "Y_pred = model.predict(X_test)\n",
        "Y_true = Y_test\n",
        "cm = confusion_matrix(Y_true, Y_pred)\n",
        "f, ax = plt.subplots(figsize =(5,5))\n",
        "sns.heatmap(cm,annot = True,linewidths=0.5,linecolor=\"red\",fmt = \".0f\",ax=ax)\n",
        "plt.xlabel(\"Y_pred\")\n",
        "plt.ylabel(\"Y_true\")\n",
        "plt.show()\n",
        "\n",
        "predict = model.predict(X_test)\n",
        "accuracy = accuracy_score(predict, Y_test)\n",
        "precision = precision_score(predict, Y_test, average = 'micro')\n",
        "recall = recall_score(predict, Y_test, average = 'micro')\n",
        "f1 = f1_score(predict, Y_test, average = 'micro')\n",
        "print('Accuracy Logistic Regression : %.3f' %accuracy) \n",
        "print('Precision Logistic Regression : %.3f' %precision)\n",
        "print('Recall Logistic Regression : %.3f' %recall)\n",
        "print('f1-score Logistic Regression : %.3f'%f1)   "
      ]
    },
    {
      "cell_type": "code",
      "execution_count": null,
      "metadata": {
        "colab": {
          "background_save": true
        },
        "id": "WM2bwJMCGZWV",
        "outputId": "924c7bd2-78f4-430d-f017-a8441432727a"
      },
      "outputs": [
        {
          "data": {
            "image/png": "[encoded data removed]",
            "text/plain": [
              "<Figure size 360x360 with 2 Axes>"
            ]
          },
          "metadata": {},
          "output_type": "display_data"
        },
        {
          "name": "stdout",
          "output_type": "stream",
          "text": [
            "Accuracy Decision Tree : 0.906\n",
            "Precision Decision Tree : 0.906\n",
            "Recall Decision Tree : 0.906\n",
            "f1-score Decision Tree : 0.906\n"
          ]
        }
      ],
      "source": [
        "#Decision Tree\n",
        "Y_pred = dt_clf.predict(X_test)\n",
        "Y_true = Y_test\n",
        "cm = confusion_matrix(Y_true, Y_pred)\n",
        "f, ax = plt.subplots(figsize =(5,5))\n",
        "sns.heatmap(cm,annot = True,linewidths=0.5,linecolor=\"red\",fmt = \".0f\",ax=ax)\n",
        "plt.xlabel(\"Y_pred\")\n",
        "plt.ylabel(\"Y_true\")\n",
        "plt.show()\n",
        "\n",
        "predict=dt_clf.predict(X_test)\n",
        "accuracy = accuracy_score(predict, Y_test)\n",
        "precision = precision_score(predict, Y_test, average = 'micro')\n",
        "recall = recall_score(predict, Y_test, average = 'micro')\n",
        "f1 = f1_score(predict, Y_test, average = 'micro')\n",
        "print('Accuracy Decision Tree : %.3f' %accuracy) \n",
        "print('Precision Decision Tree : %.3f' %precision)\n",
        "print('Recall Decision Tree : %.3f' %recall)\n",
        "print('f1-score Decision Tree : %.3f'%f1)   \n",
        "\n"
      ]
    },
    {
      "cell_type": "code",
      "execution_count": null,
      "metadata": {
        "colab": {
          "background_save": true
        },
        "id": "1n2I5Kp5G7cL",
        "outputId": "a7c09027-c889-49b8-8847-1a1926435710"
      },
      "outputs": [
        {
          "data": {
            "image/png": "[encoded data removed]",
            "text/plain": [
              "<Figure size 360x360 with 2 Axes>"
            ]
          },
          "metadata": {},
          "output_type": "display_data"
        },
        {
          "name": "stdout",
          "output_type": "stream",
          "text": [
            "Accuracy Random Forest : 0.965\n",
            "Precision Random Forest : 0.965\n",
            "Recall Random Forest : 0.965\n",
            "f1-score Random Forest : 0.965\n"
          ]
        }
      ],
      "source": [
        "#Random Forest\n",
        "Y_pred = rf_clf.predict(X_test)\n",
        "Y_true = Y_test\n",
        "cm = confusion_matrix(Y_true, Y_pred)\n",
        "f, ax = plt.subplots(figsize =(5,5))\n",
        "sns.heatmap(cm,annot = True,linewidths=0.5,linecolor=\"red\",fmt = \".0f\",ax=ax)\n",
        "plt.xlabel(\"Y_pred\")\n",
        "plt.ylabel(\"Y_true\")\n",
        "plt.show()\n",
        "\n",
        "predict=rf_clf.predict(X_test)\n",
        "accuracy = accuracy_score(predict, Y_test)\n",
        "precision = precision_score(predict, Y_test, average = 'micro')\n",
        "recall = recall_score(predict, Y_test, average = 'micro')\n",
        "f1 = f1_score(predict, Y_test, average = 'micro')\n",
        "print('Accuracy Random Forest : %.3f' %accuracy) \n",
        "print('Precision Random Forest : %.3f' %precision)\n",
        "print('Recall Random Forest : %.3f' %recall)\n",
        "print('f1-score Random Forest : %.3f'%f1)   "
      ]
    },
    {
      "cell_type": "code",
      "execution_count": null,
      "metadata": {
        "colab": {
          "background_save": true
        },
        "id": "etLpQbZjFOWm",
        "outputId": "47c2cc02-ce6b-4c87-eb67-c1518c4d7433"
      },
      "outputs": [
        {
          "data": {
            "image/png": "[encoded data removed]",
            "text/plain": [
              "<Figure size 360x360 with 2 Axes>"
            ]
          },
          "metadata": {},
          "output_type": "display_data"
        },
        {
          "name": "stdout",
          "output_type": "stream",
          "text": [
            "Accuracy Gradiant-Booster : 0.959\n",
            "Precision Gradiant-Booster : 0.959\n",
            "Recall Gradiant-Booster : 0.959\n",
            "f1-score Gradiant-Booster : 0.959\n"
          ]
        }
      ],
      "source": [
        "#Gradiant-Booster\n",
        "Y_pred = gb_clf.predict(X_test)\n",
        "Y_true = Y_test\n",
        "cm = confusion_matrix(Y_true, Y_pred)\n",
        "f, ax = plt.subplots(figsize =(5,5))\n",
        "sns.heatmap(cm,annot = True,linewidths=0.5,linecolor=\"red\",fmt = \".0f\",ax=ax)\n",
        "plt.xlabel(\"Y_pred\")\n",
        "plt.ylabel(\"Y_true\")\n",
        "plt.show()\n",
        "\n",
        "predict=gb_clf.predict(X_test)\n",
        "accuracy = accuracy_score(predict, Y_test)\n",
        "precision = precision_score(predict, Y_test, average = 'micro')\n",
        "recall = recall_score(predict, Y_test, average = 'micro')\n",
        "f1 = f1_score(predict, Y_test, average = 'micro')\n",
        "print('Accuracy Gradiant-Booster : %.3f' %accuracy) \n",
        "print('Precision Gradiant-Booster : %.3f' %precision)\n",
        "print('Recall Gradiant-Booster : %.3f' %recall)\n",
        "print('f1-score Gradiant-Booster : %.3f'%f1)   "
      ]
    },
    {
      "cell_type": "code",
      "execution_count": null,
      "metadata": {
        "colab": {
          "background_save": true
        },
        "id": "qkSpv1rph9QQ",
        "outputId": "af25f19d-6af1-4983-d494-642d9886d134"
      },
      "outputs": [
        {
          "data": {
            "image/png": "[encoded data removed]",
            "text/plain": [
              "<Figure size 360x360 with 2 Axes>"
            ]
          },
          "metadata": {},
          "output_type": "display_data"
        },
        {
          "name": "stdout",
          "output_type": "stream",
          "text": [
            "Accuracy Naive Bayes : 0.924\n",
            "Precision Naive Bayes : 0.924\n",
            "Recall Naive Bayes : 0.924\n",
            "f1-score Naive Bayes : 0.924\n"
          ]
        }
      ],
      "source": [
        "# Naive Bayes\n",
        "Y_pred = nb_clf.predict(X_test)\n",
        "Y_true = Y_test\n",
        "cm = confusion_matrix(Y_true, Y_pred)\n",
        "f, ax = plt.subplots(figsize =(5,5))\n",
        "sns.heatmap(cm,annot = True,linewidths=0.5,linecolor=\"red\",fmt = \".0f\",ax=ax)\n",
        "plt.xlabel(\"Y_pred\")\n",
        "plt.ylabel(\"Y_true\")\n",
        "plt.show()\n",
        "\n",
        "predict=nb_clf.predict(X_test)\n",
        "accuracy = accuracy_score(predict, Y_test)\n",
        "precision = precision_score(predict, Y_test, average = 'micro')\n",
        "recall = recall_score(predict, Y_test, average = 'micro')\n",
        "f1 = f1_score(predict, Y_test, average = 'micro')\n",
        "print('Accuracy Naive Bayes : %.3f' %accuracy) \n",
        "print('Precision Naive Bayes : %.3f' %precision)\n",
        "print('Recall Naive Bayes : %.3f' %recall)\n",
        "print('f1-score Naive Bayes : %.3f'%f1)   "
      ]
    },
    {
      "cell_type": "code",
      "execution_count": null,
      "metadata": {
        "id": "0EWmu7YWHJn9",
        "outputId": "91e04e53-999e-48c0-8e72-902a4ac9f03d",
        "colab": {
          "base_uri": "https://localhost:8080/",
          "height": 335
        }
      },
      "outputs": [
        {
          "data": {
            "image/png": "[encoded data removed]",
            "text/plain": [
              "<Figure size 360x360 with 2 Axes>"
            ]
          },
          "metadata": {},
          "output_type": "display_data"
        }
      ],
      "source": [
        "#K-Nearest Neighbor\n",
        "Y_pred = knn_clf.predict(X_test)\n",
        "Y_true = Y_test\n",
        "cm = confusion_matrix(Y_true, Y_pred)\n",
        "f, ax = plt.subplots(figsize =(5,5))\n",
        "sns.heatmap(cm,annot = True,linewidths=0.5,linecolor=\"red\",fmt = \".0f\",ax=ax)\n",
        "plt.xlabel(\"Y_pred\")\n",
        "plt.ylabel(\"Y_true\")\n",
        "plt.show()\n",
        "\n",
        "predict=knn_clf.predict(X_test)\n",
        "accuracy = accuracy_score(predict, Y_test)\n",
        "precision = precision_score(predict, Y_test, average = 'micro')\n",
        "recall = recall_score(predict, Y_test, average = 'micro')\n",
        "f1 = f1_score(predict, Y_test, average = 'micro')\n",
        "print('Accuracy K-Nearest Neighbor : %.3f' %accuracy) \n",
        "print('Precision K-Nearest Neighbor : %.3f' %precision)\n",
        "print('Recall K-Nearest Neighbor : %.3f' %recall)\n",
        "print('f1-score K-Nearest Neighbor : %.3f'%f1)   "
      ]
    },
    {
      "cell_type": "code",
      "execution_count": null,
      "metadata": {
        "id": "hO2703V1Hb4W"
      },
      "outputs": [],
      "source": [
        "#Support Vector Machine(SVM)\n",
        "Y_pred = sv_clf.predict(X_test)\n",
        "Y_true = Y_test\n",
        "cm = confusion_matrix(Y_true, Y_pred)\n",
        "f, ax = plt.subplots(figsize =(5,5))\n",
        "sns.heatmap(cm,annot = True,linewidths=0.5,linecolor=\"red\",fmt = \".0f\",ax=ax)\n",
        "plt.xlabel(\"Y_pred\")\n",
        "plt.ylabel(\"Y_true\")\n",
        "plt.show()\n",
        "\n",
        "predict=sv_clf.predict(X_test)\n",
        "accuracy = accuracy_score(predict, Y_test)\n",
        "precision = precision_score(predict, Y_test, average = 'micro')\n",
        "recall = recall_score(predict, Y_test, average = 'micro')\n",
        "f1 = f1_score(predict, Y_test, average = 'micro')\n",
        "print('Accuracy SVM : %.3f' %accuracy) \n",
        "print('Precision SVM : %.3f' %precision)\n",
        "print('Recall SVM : %.3f' %recall)\n",
        "print('f1-score SVM : %.3f'%f1)  \n"
      ]
    },
    {
      "cell_type": "code",
      "source": [
        "#save model\n",
        "import pickle as pa\n",
        "filename = 'finilized-model.pkl'\n",
        "pickle.dump(pa, open(filename, 'wb'))"
      ],
      "metadata": {
        "colab": {
          "base_uri": "https://localhost:8080/",
          "height": 201
        },
        "id": "q9-54zo4PgZu",
        "outputId": "637e8436-fcbe-4b65-834d-911e6aa27754"
      },
      "execution_count": null,
      "outputs": [
        {
          "output_type": "error",
          "ename": "NameError",
          "evalue": "ignored",
          "traceback": [
            "\u001b[0;31m---------------------------------------------------------------------------\u001b[0m",
            "\u001b[0;31mNameError\u001b[0m                                 Traceback (most recent call last)",
            "\u001b[0;32m<ipython-input-1-43d9c1cd175e>\u001b[0m in \u001b[0;36m<module>\u001b[0;34m\u001b[0m\n\u001b[1;32m      2\u001b[0m \u001b[0;32mimport\u001b[0m \u001b[0mpickle\u001b[0m\u001b[0;34m\u001b[0m\u001b[0;34m\u001b[0m\u001b[0m\n\u001b[1;32m      3\u001b[0m \u001b[0mfilename\u001b[0m \u001b[0;34m=\u001b[0m \u001b[0;34m'finilized-model.pkl'\u001b[0m\u001b[0;34m\u001b[0m\u001b[0;34m\u001b[0m\u001b[0m\n\u001b[0;32m----> 4\u001b[0;31m \u001b[0mpickle\u001b[0m\u001b[0;34m.\u001b[0m\u001b[0mdump\u001b[0m\u001b[0;34m(\u001b[0m\u001b[0mpa\u001b[0m\u001b[0;34m,\u001b[0m \u001b[0mopen\u001b[0m\u001b[0;34m(\u001b[0m\u001b[0mfilename\u001b[0m\u001b[0;34m,\u001b[0m \u001b[0;34m'wb'\u001b[0m\u001b[0;34m)\u001b[0m\u001b[0;34m)\u001b[0m\u001b[0;34m\u001b[0m\u001b[0;34m\u001b[0m\u001b[0m\n\u001b[0m",
            "\u001b[0;31mNameError\u001b[0m: name 'pa' is not defined"
          ]
        }
      ]
    }
  ],
  "metadata": {
    "colab": {
      "provenance": []
    },
    "kernelspec": {
      "display_name": "Python 3",
      "name": "python3"
    },
    "language_info": {
      "name": "python"
    }
  },
  "nbformat": 4,
  "nbformat_minor": 0
}